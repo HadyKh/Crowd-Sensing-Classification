{
 "cells": [
  {
   "cell_type": "markdown",
   "id": "545c86d3",
   "metadata": {},
   "source": [
    "# importing libraries"
   ]
  },
  {
   "cell_type": "code",
   "execution_count": 1,
   "id": "4f776911",
   "metadata": {},
   "outputs": [],
   "source": [
    "import numpy as np\n",
    "import pandas as pd\n",
    "import matplotlib.pyplot as plt\n",
    "from sklearn.ensemble import AdaBoostClassifier"
   ]
  },
  {
   "cell_type": "markdown",
   "id": "d27bb3a8",
   "metadata": {},
   "source": [
    "# Reading Data"
   ]
  },
  {
   "cell_type": "code",
   "execution_count": 2,
   "id": "f711283d",
   "metadata": {},
   "outputs": [],
   "source": [
    "s = 0\n",
    "df = pd.read_csv(f'MCSDatasetNEXTCONLab.csv')\n",
    "df['Ligitimacy'] = df['Ligitimacy'].replace(0,-1)\n",
    "trDf = df[:10139][:]\n",
    "teDf = df[10139:][:]\n",
    "trDf = trDf.apply(lambda x: (x-45)*10000 if x.name == 'Latitude' else x)\n",
    "trDf = trDf.apply(lambda x: (x+75)*10000 if x.name == 'Longitude' else x)\n",
    "teDf = teDf.apply(lambda x: (x-45)*10000 if x.name == 'Latitude' else x)\n",
    "teDf = teDf.apply(lambda x: (x+75)*10000 if x.name == 'Longitude' else x)\n",
    "trY = trDf['Ligitimacy'].values\n",
    "teY = teDf['Ligitimacy'].values\n",
    "trX = trDf.drop(columns=['ID', 'Day', 'Ligitimacy']).values\n",
    "teX = teDf.drop(columns=['ID', 'Day', 'Ligitimacy']).values"
   ]
  },
  {
   "cell_type": "code",
   "execution_count": 10,
   "id": "1edd1ae3",
   "metadata": {},
   "outputs": [],
   "source": [
    "# converting to data frame\n",
    "xtrain = pd.DataFrame(trX,columns = [\"Latitude\", \"Longitude\", \"Hour\", \"Minute\", \"Duration\", \"RemainingTime\", \"Resources\", \"Coverage\", \"OnPeakHours\", \"GridNumber\"]) \n",
    "xtest = pd.DataFrame(teX,columns = [\"Latitude\", \"Longitude\", \"Hour\", \"Minute\", \"Duration\", \"RemainingTime\", \"Resources\", \"Coverage\", \"OnPeakHours\", \"GridNumber\"])\n",
    "ytrain =pd.DataFrame(trY,columns = [\"Ligitimacy\"])\n",
    "ytest =pd.DataFrame(teY,columns = [\"Ligitimacy\"])"
   ]
  },
  {
   "cell_type": "code",
   "execution_count": null,
   "id": "1d820fbf",
   "metadata": {},
   "outputs": [],
   "source": []
  }
 ],
 "metadata": {
  "kernelspec": {
   "display_name": "Python 3 (ipykernel)",
   "language": "python",
   "name": "python3"
  },
  "language_info": {
   "codemirror_mode": {
    "name": "ipython",
    "version": 3
   },
   "file_extension": ".py",
   "mimetype": "text/x-python",
   "name": "python",
   "nbconvert_exporter": "python",
   "pygments_lexer": "ipython3",
   "version": "3.9.7"
  }
 },
 "nbformat": 4,
 "nbformat_minor": 5
}
